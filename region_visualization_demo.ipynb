{
 "metadata": {
  "name": "",
  "signature": "sha256:ae39fb6843b5130de321d5394ec114b067e04da8ee7682119abd36614120061c"
 },
 "nbformat": 3,
 "nbformat_minor": 0,
 "worksheets": [
  {
   "cells": [
    {
     "cell_type": "markdown",
     "metadata": {},
     "source": [
      "#Visual Genome Region Description Visualization\n",
      "\n",
      "In this demo, we will demonstrate how you can get use the [Visual Genome Python Driver](https://github.com/ranjaykrishna/visual_genome_python_driver) to get images and also their regions. Next, we will show you how you can visualize the regions to make sure that they work.\n",
      "\n",
      "#### Getting an image id\n",
      "First, let's get an image from the dataset."
     ]
    },
    {
     "cell_type": "code",
     "collapsed": false,
     "input": [
      "import matplotlib.pyplot as plt\n",
      "from matplotlib.patches import Rectangle\n",
      "from src import vg"
     ],
     "language": "python",
     "metadata": {},
     "outputs": [],
     "prompt_number": 18
    },
    {
     "cell_type": "code",
     "collapsed": false,
     "input": [
      "ids = vg.GetImageIdsInRange(startIndex=0, endIndex=1)\n",
      "image_id = ids[0]\n",
      "print \"We got an image with id: %d\" % image_id\n",
      "\n",
      "%matplotlib inline"
     ],
     "language": "python",
     "metadata": {},
     "outputs": [
      {
       "output_type": "stream",
       "stream": "stdout",
       "text": [
        "We got an image with id: 1\n"
       ]
      }
     ],
     "prompt_number": 16
    },
    {
     "cell_type": "markdown",
     "metadata": {},
     "source": [
      "#### Getting the image data\n",
      "Next, we will get some data about the image. We specifically want to know the image's url."
     ]
    },
    {
     "cell_type": "code",
     "collapsed": false,
     "input": [
      "image = vg.GetImageData(id=image_id)\n",
      "print \"The url of the image is: %s\" % image.url"
     ],
     "language": "python",
     "metadata": {},
     "outputs": [
      {
       "output_type": "stream",
       "stream": "stdout",
       "text": [
        "The url of the image is: https://cs.stanford.edu/people/rak248/VG_100K_2/1.jpg\n"
       ]
      }
     ],
     "prompt_number": 11
    },
    {
     "cell_type": "markdown",
     "metadata": {},
     "source": [
      "#### Getting the region descriptions\n",
      "Now, let's get all the region descriptions for this image."
     ]
    },
    {
     "cell_type": "code",
     "collapsed": false,
     "input": [
      "regions = vg.GetRegionDescriptionsOfImage(id=image_id)\n",
      "print \"The first region descriptions is: %s\" % regions[0].phrase\n",
      "print \"It is located in a bounding box specified by x:%d, y:%d, width:%d, height:%d\" % (regions[0].x, regions[0].y, regions[0].width, regions[0].height)"
     ],
     "language": "python",
     "metadata": {},
     "outputs": [
      {
       "output_type": "stream",
       "stream": "stdout",
       "text": [
        "The first region descriptions is: the clock is green in colour\n",
        "It is located in a bounding box specified by x:421, y:57, width:82, height:139\n"
       ]
      }
     ],
     "prompt_number": 13
    },
    {
     "cell_type": "markdown",
     "metadata": {},
     "source": [
      "#### Visualizing some regions\n",
      "Now, we will visualize some of the regions. The x,y coordinates of a region refer to the top left corner of the region. Since there are many regions, we will only visualize the first 4."
     ]
    },
    {
     "cell_type": "code",
     "collapsed": false,
     "input": [
      "def visualize_regions(image, regions):\n",
      "    plt.imshow(image)\n",
      "    ax = plt.gca()\n",
      "    for region in regions:\n",
      "        ax.add_patch(Rectangle((region.x, region.y),\n",
      "                               region.width,\n",
      "                               region.height,\n",
      "                               fill=False,\n",
      "                               edgecolor='red',\n",
      "                               linewidth=3))\n",
      "        fig = plt.gcf()\n",
      "        plt.tick_params(labelbottom='off', labelleft='off')\n",
      "        plt.show()\n",
      "visualize_regions(image, regions[:4])"
     ],
     "language": "python",
     "metadata": {},
     "outputs": []
    },
    {
     "cell_type": "code",
     "collapsed": false,
     "input": [],
     "language": "python",
     "metadata": {},
     "outputs": []
    }
   ],
   "metadata": {}
  }
 ]
}